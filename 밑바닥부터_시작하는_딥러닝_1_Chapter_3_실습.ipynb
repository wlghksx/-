{
  "nbformat": 4,
  "nbformat_minor": 0,
  "metadata": {
    "colab": {
      "name": "밑바닥부터 시작하는 딥러닝 1 Chapter 3 실습.ipynb",
      "provenance": [],
      "collapsed_sections": [],
      "mount_file_id": "1ipzy-PYhLhUKYO3XwEtzxv_XK9V0xy_q",
      "authorship_tag": "ABX9TyNn1QFIcXCKIG5MYen24b4N",
      "include_colab_link": true
    },
    "kernelspec": {
      "name": "python3",
      "display_name": "Python 3"
    },
    "language_info": {
      "name": "python"
    }
  },
  "cells": [
    {
      "cell_type": "markdown",
      "metadata": {
        "id": "view-in-github",
        "colab_type": "text"
      },
      "source": [
        "<a href=\"https://colab.research.google.com/github/wlghksx/Deep-Learning-from-Scratch/blob/main/%EB%B0%91%EB%B0%94%EB%8B%A5%EB%B6%80%ED%84%B0_%EC%8B%9C%EC%9E%91%ED%95%98%EB%8A%94_%EB%94%A5%EB%9F%AC%EB%8B%9D_1_Chapter_3_%EC%8B%A4%EC%8A%B5.ipynb\" target=\"_parent\"><img src=\"https://colab.research.google.com/assets/colab-badge.svg\" alt=\"Open In Colab\"/></a>"
      ]
    },
    {
      "cell_type": "markdown",
      "metadata": {
        "id": "Fs9NoSVj309I"
      },
      "source": [
        "# 3.2.2 계단 함수 구현하기"
      ]
    },
    {
      "cell_type": "code",
      "metadata": {
        "id": "8tvtQX9S41mA"
      },
      "source": [
        "def step_function(x) :\n",
        "  if x>0 :\n",
        "    return 1\n",
        "  else:\n",
        "    return 0"
      ],
      "execution_count": null,
      "outputs": []
    },
    {
      "cell_type": "markdown",
      "metadata": {
        "id": "toY2NZ4r491m"
      },
      "source": [
        "이것이 이전의 장까지 적용되던 퍼셉트론에 적용되던 알고리즘이다.\n",
        "\n",
        "하지만 이는 numpy 배열을 인수로 받아들이 수 없으므로 바꿔준다면."
      ]
    },
    {
      "cell_type": "code",
      "metadata": {
        "id": "d9hpaJGv5FoH"
      },
      "source": [
        "import numpy as np\n",
        "\n",
        "def step_function(x) :\n",
        "  y = x>0\n",
        "  return y.astype(np.int)"
      ],
      "execution_count": null,
      "outputs": []
    },
    {
      "cell_type": "code",
      "metadata": {
        "colab": {
          "base_uri": "https://localhost:8080/"
        },
        "id": "_B-F33zH5g1r",
        "outputId": "000b9d16-2d0b-4422-ede4-f1fbcac55efb"
      },
      "source": [
        "x = np.array([-1.0,1.0,2.0])\n",
        "x\n"
      ],
      "execution_count": null,
      "outputs": [
        {
          "output_type": "execute_result",
          "data": {
            "text/plain": [
              "array([False,  True,  True])"
            ]
          },
          "metadata": {
            "tags": []
          },
          "execution_count": 5
        }
      ]
    },
    {
      "cell_type": "code",
      "metadata": {
        "colab": {
          "base_uri": "https://localhost:8080/"
        },
        "id": "QrAf5htK5pP1",
        "outputId": "3773d4c6-e8c8-4b42-f0c1-79eb5c7ccef8"
      },
      "source": [
        "y = x>0\n",
        "y"
      ],
      "execution_count": null,
      "outputs": [
        {
          "output_type": "execute_result",
          "data": {
            "text/plain": [
              "array([False,  True,  True])"
            ]
          },
          "metadata": {
            "tags": []
          },
          "execution_count": 6
        }
      ]
    },
    {
      "cell_type": "markdown",
      "metadata": {
        "id": "iXgeb1_d55hU"
      },
      "source": [
        "하지만 우리가 원하는 것은 bool배열이 아닌 int형을 출력해주는 것이기 때문에, 바꿔준다.\n"
      ]
    },
    {
      "cell_type": "code",
      "metadata": {
        "colab": {
          "base_uri": "https://localhost:8080/"
        },
        "id": "R-GmKOdH6BcM",
        "outputId": "b96993df-3df1-4ada-a825-61ef2512d334"
      },
      "source": [
        "y = y.astype(np.int)\n",
        "y"
      ],
      "execution_count": null,
      "outputs": [
        {
          "output_type": "execute_result",
          "data": {
            "text/plain": [
              "array([0, 1, 1])"
            ]
          },
          "metadata": {
            "tags": []
          },
          "execution_count": 8
        }
      ]
    },
    {
      "cell_type": "markdown",
      "metadata": {
        "id": "UYz-AnHg5w7g"
      },
      "source": [
        "## 계단함수 그래프"
      ]
    },
    {
      "cell_type": "code",
      "metadata": {
        "colab": {
          "base_uri": "https://localhost:8080/",
          "height": 265
        },
        "id": "kKJYtnYP50l9",
        "outputId": "4fb02143-92f3-4b04-d7fc-876aa2c1b41b"
      },
      "source": [
        "import matplotlib.pyplot as plt\n",
        "\n",
        "x = np.arange(-5.0,5.0,0.1)\n",
        "y = step_function(x)\n",
        "plt.plot(x,y)\n",
        "plt.ylim(-0.1,1.1)\n",
        "plt.show()"
      ],
      "execution_count": null,
      "outputs": [
        {
          "output_type": "display_data",
          "data": {
            "image/png": "[encoded data removed]",
            "text/plain": [
              "<Figure size 432x288 with 1 Axes>"
            ]
          },
          "metadata": {
            "tags": [],
            "needs_background": "light"
          }
        }
      ]
    },
    {
      "cell_type": "markdown",
      "metadata": {
        "id": "y3UevcqC6azc"
      },
      "source": [
        "## 시그모이드 함수 구현"
      ]
    },
    {
      "cell_type": "code",
      "metadata": {
        "id": "Bgja1xUd6fII"
      },
      "source": [
        "def sigmoid(x):\n",
        "  return 1/(1+np.exp(-x))"
      ],
      "execution_count": null,
      "outputs": []
    },
    {
      "cell_type": "code",
      "metadata": {
        "colab": {
          "base_uri": "https://localhost:8080/",
          "height": 265
        },
        "id": "fczq2mUV6lN4",
        "outputId": "6c488c81-9aa5-4125-8997-5ba681b5ce3f"
      },
      "source": [
        "x = np.arange(-5.0,5.0,0.1)\n",
        "y = sigmoid(x)\n",
        "plt.plot(x,y)\n",
        "plt.ylim(-0.1,1.1)\n",
        "plt.show()"
      ],
      "execution_count": null,
      "outputs": [
        {
          "output_type": "display_data",
          "data": {
            "image/png": "[encoded data removed]",
            "text/plain": [
              "<Figure size 432x288 with 1 Axes>"
            ]
          },
          "metadata": {
            "tags": [],
            "needs_background": "light"
          }
        }
      ]
    },
    {
      "cell_type": "markdown",
      "metadata": {
        "id": "7Qzn_snh6xdd"
      },
      "source": [
        "- 활성화함수를 계단함수가 아닌 시그모이드 함수를 사용함으로써 활성화 값에 연속적인 실수를 갖게 할 수 있다.\n",
        "- 공통점은 입력이 작을 때는 출력이 0에 가깝고, 클 떄는 출력이 1에 가깝다는 점.\n",
        "- 또한 입력이 아무리 작거나 커도 0과 1사이이다."
      ]
    },
    {
      "cell_type": "markdown",
      "metadata": {
        "id": "v4CKsuzT7DCn"
      },
      "source": [
        "## 3.2.6 비선형 함수"
      ]
    },
    {
      "cell_type": "markdown",
      "metadata": {
        "id": "ZBMdm6D47RdC"
      },
      "source": [
        "- 신경망에서는 활성화 함수로 선형함수가 아닌 비선형 함수를 주로 사용한다.\n",
        "- 왜냐하면, 선형함수를 이용하면 층을 깊게하는 이유가 사라진다.\n",
        "- 즉, 선형함수의 문제점은 층을 아무리 깊게해도 은닉층이 없는 네트워크로도 똑같은 기능을 할 수 있다.\n",
        "- h(x) = cx 를 활성화 함수로 사용한 3층 네트워크 를 생각해보자면 ,\n",
        "y(x) = h(h(h(x))) 가 된다. 즉 y = c * c * c * x 처럼 곱셈을 여러번 하지만 실제로는 y = ax와 같은 식이 된다.\n"
      ]
    },
    {
      "cell_type": "markdown",
      "metadata": {
        "id": "VyDzkXM58C6f"
      },
      "source": [
        "## ReLU 함수"
      ]
    },
    {
      "cell_type": "markdown",
      "metadata": {
        "id": "oFqranPH8IVB"
      },
      "source": [
        "- 최근에 많이 사용하는 활성화 함수이다.\n",
        "- 입력이 0을 넘으면 입력을 그대로 출력, 0 이하면 0을 출력"
      ]
    },
    {
      "cell_type": "code",
      "metadata": {
        "id": "HdxIeZQj8Ue8"
      },
      "source": [
        "def relu(x) :\n",
        "  return np.maximum(0,x)"
      ],
      "execution_count": null,
      "outputs": []
    },
    {
      "cell_type": "markdown",
      "metadata": {
        "id": "s7Xj6quQ8ZMz"
      },
      "source": [
        "# 3.3 다차원 배열의 계산"
      ]
    },
    {
      "cell_type": "markdown",
      "metadata": {
        "id": "EOQ3i44r8fqy"
      },
      "source": [
        "넘파이의 다차원 배열을 사용한 계산을 숙달하면 신경망을 효율적으로 구현할 수 있기 때문에 이번 절에서는 넘파이의 다차원 배열 계산에 대해 설명한 뒤 신경망 구현을 시현"
      ]
    },
    {
      "cell_type": "markdown",
      "metadata": {
        "id": "tRQWkotq8rmG"
      },
      "source": [
        "## 3.3.1 다차원 배열"
      ]
    },
    {
      "cell_type": "code",
      "metadata": {
        "colab": {
          "base_uri": "https://localhost:8080/"
        },
        "id": "1NMlURhR8uWh",
        "outputId": "c4cbe879-3a2d-4ecd-fd1d-ab9d83889dfe"
      },
      "source": [
        "import numpy as np\n",
        "A = np.array([1,2,3,4])\n",
        "print(A)\n",
        "print(np.ndim(A))\n",
        "print(A.shape)\n",
        "print(A.shape[0])"
      ],
      "execution_count": null,
      "outputs": [
        {
          "output_type": "stream",
          "text": [
            "[1 2 3 4]\n",
            "1\n",
            "(4,)\n",
            "4\n"
          ],
          "name": "stdout"
        }
      ]
    },
    {
      "cell_type": "code",
      "metadata": {
        "colab": {
          "base_uri": "https://localhost:8080/"
        },
        "id": "IGDO3ng18xdf",
        "outputId": "5e5f83a7-ef9b-49c0-a405-15c9241348d3"
      },
      "source": [
        "B = np.array([[1,2],[3,4],[5,6]])\n",
        "\n",
        "print(B)\n",
        "print(np.ndim(B)) # 2차원 배열\n",
        "print(B.shape) # 3행 2열"
      ],
      "execution_count": null,
      "outputs": [
        {
          "output_type": "stream",
          "text": [
            "[[1 2]\n",
            " [3 4]\n",
            " [5 6]]\n",
            "2\n",
            "(3, 2)\n"
          ],
          "name": "stdout"
        }
      ]
    },
    {
      "cell_type": "markdown",
      "metadata": {
        "id": "vNEqztQG9Nai"
      },
      "source": [
        "## 3.3.2 행렬의 곱"
      ]
    },
    {
      "cell_type": "code",
      "metadata": {
        "colab": {
          "base_uri": "https://localhost:8080/"
        },
        "id": "7hMIIJ049Vtm",
        "outputId": "9ee0d5e2-73da-4c08-e392-e769362e5c05"
      },
      "source": [
        "A = np.array([[1,2],[3,4]])\n",
        "B = np.array([[5,6],[7,8]])\n",
        "\n",
        "np.dot(A,B) # A의 1행 B의 1열의 곱이 결과의 1행 1열의 값이 된다."
      ],
      "execution_count": null,
      "outputs": [
        {
          "output_type": "execute_result",
          "data": {
            "text/plain": [
              "array([[19, 22],\n",
              "       [43, 50]])"
            ]
          },
          "metadata": {
            "tags": []
          },
          "execution_count": 17
        }
      ]
    },
    {
      "cell_type": "markdown",
      "metadata": {
        "id": "0uF4wQGA9ogx"
      },
      "source": [
        "- 행렬의 곱은 행령의 형상에 주의해야 한다.\n",
        "- 즉, A의 1번째 차원의 원소 수(열 수)와 행렬 B의 0번쨰 차원의 원소 수(행 수) 가 같지 않으면 곱셈이 불가하다."
      ]
    },
    {
      "cell_type": "markdown",
      "metadata": {
        "id": "_q1J2JEJ-MPe"
      },
      "source": [
        "- 즉 A(3 * 2) 행렬과 B(2 * 4) 행렬의 곱은 C(3 * 4) 행렬이 된다."
      ]
    },
    {
      "cell_type": "markdown",
      "metadata": {
        "id": "bF5LZLPf-lTW"
      },
      "source": [
        "## 3.4.2 각 층의 신호 전달 구현하기"
      ]
    },
    {
      "cell_type": "code",
      "metadata": {
        "id": "jj-xgbF8IfJr",
        "colab": {
          "base_uri": "https://localhost:8080/"
        },
        "outputId": "3bdffecc-d041-4cad-a811-d9f09694bbd5"
      },
      "source": [
        "X = np.array([1.0,0.5])\n",
        "w1 = np.array([[0.1,0.3,0.5],[0.2,0.4,0.6]])\n",
        "B1 = np.array([0.1,0.2,0.3])\n",
        "\n",
        "print(w1.shape)\n",
        "print(X.shape)\n",
        "print(B1.shape)\n",
        "\n",
        "A1 = np.dot(X,w1) +B1\n",
        "print(A1)"
      ],
      "execution_count": null,
      "outputs": [
        {
          "output_type": "stream",
          "text": [
            "(2, 3)\n",
            "(2,)\n",
            "(3,)\n",
            "[0.3 0.7 1.1]\n"
          ],
          "name": "stdout"
        }
      ]
    },
    {
      "cell_type": "markdown",
      "metadata": {
        "id": "rFehE69jK3Tg"
      },
      "source": [
        "- 위의 과정이 신경망의 히든레이어 1층의 첫번째 뉴런에 입력층의 (입력2 + bias) 3가지 입력이 가중치(w1)가 곱해져서 전해지는 과정이다."
      ]
    },
    {
      "cell_type": "code",
      "metadata": {
        "colab": {
          "base_uri": "https://localhost:8080/"
        },
        "id": "uVSAMTALL44p",
        "outputId": "15ae4727-e176-47eb-898b-26a1975cb970"
      },
      "source": [
        "Z1 = sigmoid(A1)\n",
        "print(Z1)"
      ],
      "execution_count": null,
      "outputs": [
        {
          "output_type": "stream",
          "text": [
            "[0.57444252 0.66818777 0.75026011]\n"
          ],
          "name": "stdout"
        }
      ]
    },
    {
      "cell_type": "markdown",
      "metadata": {
        "id": "3sjaJKmMNVUL"
      },
      "source": [
        "- 위에서 정의했었던 시그모이드 함수에 A1을 대입해준 값인 Z1이 결국 첫번쨰 히든레이어 1번 노드에 입력되는 최종 활성화 값이다."
      ]
    },
    {
      "cell_type": "markdown",
      "metadata": {
        "id": "q6eqLDUJNkxr"
      },
      "source": [
        "- 여기서는 마지막 출력층의 활성화 함수를 identity_function(x) 을 정의하여 기존의 히든레이어의 활성화 함수와 다름을 표시해줬다.\n",
        "- 그렇다면 왜 출력층은 활성화 함수가 달라야할까? 어떻게 다를까?\n",
        "- 출력층의 활성화 함수는 풀고자 하는 문제에 따라 정한다. 회귀에서는 항등함수, 2클래스 분류에는 시그모이드, 다중 클래스 분류에는 소프트맥스 함수를 사용하곤 한다. 다음에 더 자세히 다루도록 하겠다."
      ]
    },
    {
      "cell_type": "markdown",
      "metadata": {
        "id": "k9Xmn27ROwQY"
      },
      "source": [
        "# 3.5 출력층  설계하기\n",
        "## 3.5.1 항등 함수와 소프트맥스 함수 구현하기"
      ]
    },
    {
      "cell_type": "markdown",
      "metadata": {
        "id": "hIWl4iT6QSgk"
      },
      "source": [
        "- softmax 함수 식\n",
        "\n",
        "![image.png](data:image/png;base64,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)"
      ]
    },
    {
      "cell_type": "markdown",
      "metadata": {
        "id": "DDLhYFWvQaph"
      },
      "source": [
        "K = 출력층의 뉴런 수\n",
        "\n",
        "k = 그중 k번째 출력임을 뜻한다.\n",
        "\n",
        "a^k = k번째 뉴런에 들어가는 입력신호\n"
      ]
    },
    {
      "cell_type": "code",
      "metadata": {
        "colab": {
          "base_uri": "https://localhost:8080/"
        },
        "id": "nklfOSVpdyRR",
        "outputId": "4d7557e6-cfc5-4f2a-adcc-4df93e359972"
      },
      "source": [
        "a = np.array([0.3,2.9,4.0])\n",
        "\n",
        "exp_a = np.exp(a)\n",
        "print(exp_a)\n",
        "\n",
        "sum_exp_a = np.sum(exp_a)\n",
        "print(sum_exp_a)\n",
        "\n",
        "y = exp_a / sum_exp_a\n",
        "print(y)"
      ],
      "execution_count": null,
      "outputs": [
        {
          "output_type": "stream",
          "text": [
            "[ 1.34985881 18.17414537 54.59815003]\n",
            "74.1221542101633\n",
            "[0.01821127 0.24519181 0.73659691]\n"
          ],
          "name": "stdout"
        }
      ]
    },
    {
      "cell_type": "markdown",
      "metadata": {
        "id": "rXGoaCaze6b4"
      },
      "source": [
        "## 그럼 소프트맥스 함수 알고리즘을 구현해보겠습니다."
      ]
    },
    {
      "cell_type": "code",
      "metadata": {
        "id": "PaIwaUOVeBKS"
      },
      "source": [
        "def softmax(a) :\n",
        "  exp_a = np.exp(a)\n",
        "  sum_exp_a = np.sum(exp_a)\n",
        "  y = exp_a / sum_exp_a"
      ],
      "execution_count": null,
      "outputs": []
    },
    {
      "cell_type": "markdown",
      "metadata": {
        "id": "28u91oIPe4_V"
      },
      "source": [
        "## 3.5.2 Softmax 함수 구현 시 주의할 점"
      ]
    },
    {
      "cell_type": "markdown",
      "metadata": {
        "id": "oVMe_h1NfCKv"
      },
      "source": [
        "소프트 맥스 함수를 계산할 때 주의해야 할 점은 오버플로 문제이다.\n",
        "\n",
        "소프트맥스 함수는 지수함수를 사용하는데, 지수 함수는 아주 큰 값을 출력하기 때문에, e^1000 같은 경우는 무한대를 뜻하는 inf가 되어 돌아오기도 한다.\n",
        "그리고, 이런 큰 값끼리 나눗셈을 하는 경우에는 불안정한 결과를 출력하게 된다.\n",
        "\n",
        "이 문제를 해결하기 위해서 소프트맥스 함수를 개선해보도록 하겠다."
      ]
    },
    {
      "cell_type": "markdown",
      "metadata": {
        "id": "-iQOH2ffgHq7"
      },
      "source": [
        "![image.png](data:image/png;base64,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)"
      ]
    },
    {
      "cell_type": "code",
      "metadata": {
        "colab": {
          "base_uri": "https://localhost:8080/"
        },
        "id": "WLXlR3ydgZrG",
        "outputId": "9aeade12-155a-4e1d-e4c8-a091c4304525"
      },
      "source": [
        "a = np.array([1010,1000,990])\n",
        "print(np.exp(a) / np.sum(np.exp(a)))\n",
        "\n",
        "c = np.max(a)\n",
        "print(np.exp(a-c) / np.sum(np.exp(a-c)))\n"
      ],
      "execution_count": null,
      "outputs": [
        {
          "output_type": "stream",
          "text": [
            "[nan nan nan]\n",
            "[9.99954600e-01 4.53978686e-05 2.06106005e-09]\n"
          ],
          "name": "stdout"
        },
        {
          "output_type": "stream",
          "text": [
            "/usr/local/lib/python3.7/dist-packages/ipykernel_launcher.py:2: RuntimeWarning: overflow encountered in exp\n",
            "  \n",
            "/usr/local/lib/python3.7/dist-packages/ipykernel_launcher.py:2: RuntimeWarning: invalid value encountered in true_divide\n",
            "  \n"
          ],
          "name": "stderr"
        }
      ]
    },
    {
      "cell_type": "markdown",
      "metadata": {
        "id": "isayFmmxhBpA"
      },
      "source": [
        "- 따라서 이전에 정의했던 softmax(a) 함수를 이와 같이 오버플로우를 방지하기 위해 재정의해준다."
      ]
    },
    {
      "cell_type": "code",
      "metadata": {
        "id": "kBJEKmcKgvLT"
      },
      "source": [
        "def softmax(a) :\n",
        "  c = np.max(a)\n",
        "  exp_a = np.exp(a-c)\n",
        "  sum_exp_a = np.sum(exp_a)\n",
        "  y = exp_a / sum_exp_a\n",
        "\n",
        "  return y\n",
        "\n"
      ],
      "execution_count": null,
      "outputs": []
    },
    {
      "cell_type": "markdown",
      "metadata": {
        "id": "USRh_6XGhAEy"
      },
      "source": [
        "## 3.5.3 소프트맥스 함수의 특징"
      ]
    },
    {
      "cell_type": "code",
      "metadata": {
        "colab": {
          "base_uri": "https://localhost:8080/"
        },
        "id": "V3hj27EfhLE5",
        "outputId": "0f21c2a1-83e3-495c-fc45-2366ee38e378"
      },
      "source": [
        "a = np.array([0.3,2.9,4.0])\n",
        "y = softmax(a)\n",
        "\n",
        "print(y)\n",
        "print(np.sum(y))"
      ],
      "execution_count": null,
      "outputs": [
        {
          "output_type": "stream",
          "text": [
            "[0.01821127 0.24519181 0.73659691]\n",
            "1.0\n"
          ],
          "name": "stdout"
        }
      ]
    },
    {
      "cell_type": "markdown",
      "metadata": {
        "id": "XyGB_bDqhVrA"
      },
      "source": [
        "- 소프트맥스 함수의 출력은 0~1 사이의 값이다\n",
        "**소프트맥스 함수의 출력의 총합은 1이다.**\n",
        "\n",
        "이러한 성질 덕분에 출력값을 확률로 해석할 수 있다.\n",
        "소프트맥스 함수를 이용함으로써 문제를 확률적으로 대응할 수 있게 된 것이다.\n",
        "\n",
        "하지만 신경망을 이용한 분류 문제에서는 일반적으로 가장 큰 출력을 내는 뉴런에 해당하는 클래스로만 인식한다. 그리고 소프트 맥스 함수를 적용해도 가장 큰 뉴런의 위치는 달라지지 않기 때문에 \n",
        "\n",
        "분류를 위해서라면 추론단계에서는 소프트맥스 함수를 생략하는 것도 계산적 이로움을 줄 수 있다.\n",
        "\n",
        "추론단계란 학습단계가 아닌 이미 학습된 모델로 미지의 데이터에 대하여 추론(분류)를 수행함을 의미한다.\n"
      ]
    },
    {
      "cell_type": "markdown",
      "metadata": {
        "id": "JHDuv3luiSIh"
      },
      "source": [
        "# 3.6 손글씨 숫자 인식"
      ]
    },
    {
      "cell_type": "markdown",
      "metadata": {
        "id": "6qE9alZLjEiZ"
      },
      "source": [
        "- 이번 절에서는 이미 학습된 모델을 이용하여 학습 과정을 생략하고, 추론과정만 구현한다. 이 추론 과정을 신경망의 순전파(Forward propagation)라고도 한다."
      ]
    },
    {
      "cell_type": "markdown",
      "metadata": {
        "id": "GH8aGl40jZoe"
      },
      "source": [
        "## 3.6.1 MNIST 데이터셋"
      ]
    },
    {
      "cell_type": "markdown",
      "metadata": {
        "id": "pFIppJCxuQZT"
      },
      "source": [
        "- 코랩은 로컬환경과 연결되어 있지 않기 때문에 직접 파일을 설정하여 연결해준 후 함수를 사용하여야 한다. 그 방법이 아래와 같다."
      ]
    },
    {
      "cell_type": "code",
      "metadata": {
        "colab": {
          "resources": {
            "http://localhost:8080/nbextensions/google.colab/files.js": {
              "data": "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",
              "ok": true,
              "headers": [
                [
                  "content-type",
                  "application/javascript"
                ]
              ],
              "status": 200,
              "status_text": ""
            }
          },
          "base_uri": "https://localhost:8080/",
          "height": 76
        },
        "id": "HcE79xWrje4D",
        "outputId": "cd432943-a267-4c19-d301-54b70ab67d04"
      },
      "source": [
        "from google.colab import files\n",
        "src = list(files.upload().values())[0]\n",
        "open('file1.py','wb').write(src)\n",
        "import file1"
      ],
      "execution_count": 56,
      "outputs": [
        {
          "output_type": "display_data",
          "data": {
            "text/html": [
              "\n",
              "     <input type=\"file\" id=\"files-5938d4b2-d747-4e2f-a39a-16ada4b6c27a\" name=\"files[]\" multiple disabled\n",
              "        style=\"border:none\" />\n",
              "     <output id=\"result-5938d4b2-d747-4e2f-a39a-16ada4b6c27a\">\n",
              "      Upload widget is only available when the cell has been executed in the\n",
              "      current browser session. Please rerun this cell to enable.\n",
              "      </output>\n",
              "      <script src=\"/nbextensions/google.colab/files.js\"></script> "
            ],
            "text/plain": [
              "<IPython.core.display.HTML object>"
            ]
          },
          "metadata": {
            "tags": []
          }
        },
        {
          "output_type": "stream",
          "text": [
            "Saving mnist.py to mnist.py\n"
          ],
          "name": "stdout"
        }
      ]
    },
    {
      "cell_type": "code",
      "metadata": {
        "id": "_OKFKS4FkVWH",
        "colab": {
          "base_uri": "https://localhost:8080/"
        },
        "outputId": "a4ad2073-dbc0-495f-d6fa-94d48cfdf1b3"
      },
      "source": [
        "(x_train, t_train), (x_test,t_test) = file1.load_mnist(flatten = True, normalize = False)\n",
        "\n",
        "print(x_train.shape)\n",
        "print(t_train.shape)\n",
        "print(x_test.shape)\n",
        "print(t_test.shape)\n"
      ],
      "execution_count": 59,
      "outputs": [
        {
          "output_type": "stream",
          "text": [
            "Downloading train-images-idx3-ubyte.gz ... \n",
            "Done\n",
            "Downloading train-labels-idx1-ubyte.gz ... \n",
            "Done\n",
            "Downloading t10k-images-idx3-ubyte.gz ... \n",
            "Done\n",
            "Downloading t10k-labels-idx1-ubyte.gz ... \n",
            "Done\n",
            "Converting train-images-idx3-ubyte.gz to NumPy Array ...\n",
            "Done\n",
            "Converting train-labels-idx1-ubyte.gz to NumPy Array ...\n",
            "Done\n",
            "Converting t10k-images-idx3-ubyte.gz to NumPy Array ...\n",
            "Done\n",
            "Converting t10k-labels-idx1-ubyte.gz to NumPy Array ...\n",
            "Done\n",
            "Creating pickle file ...\n",
            "Done!\n",
            "(60000, 784)\n",
            "(60000,)\n",
            "(10000, 784)\n",
            "(10000,)\n"
          ],
          "name": "stdout"
        }
      ]
    },
    {
      "cell_type": "markdown",
      "metadata": {
        "id": "_1rQsiFR0VF0"
      },
      "source": [
        "- load_mnist 에는 인수가 3가지가 있다.\n",
        "1. normalize (bool) : 입력 이미지의 픽셀 값을 0~1사이로 정규화할지 설정하는 것.\n",
        "2. flatten(bool) : 입력 이미지를 평탄하게, 즉 1차원 배열로 만들지 설정하는 것.\n",
        "3. one_hot_incoding : 레이블을 원핫인코딩형태로 저장할지 아니면 레이블 그대로 저장할지.\n",
        "\n"
      ]
    },
    {
      "cell_type": "code",
      "metadata": {
        "colab": {
          "base_uri": "https://localhost:8080/"
        },
        "id": "EJaayR37t6Wt",
        "outputId": "9511ab1c-5391-41f2-9500-877c0bac0762"
      },
      "source": [
        "import sys, os\n",
        "import numpy as np\n",
        "from PIL import Image # 이미지 표시를 위해 사용하는 모듈\n",
        "\n",
        "def img_show(img) :\n",
        "  pil_img = Image.fromarray(np.uint8(img))\n",
        "  pil_img.show()\n",
        "\n",
        "(x_train, t_train), (x_test,t_test) = file1.load_mnist(flatten = True, normalize = False)\n",
        "\n",
        "img = x_train[0] # 첫번째 이미지 지정\n",
        "label = t_train[0] # 첫번째 이미지의 라벨 지정\n",
        "print(label)\n",
        "\n",
        "print(img.shape)\n",
        "\n",
        "img = img.reshape(28,28)\n",
        "print(img.shape)\n",
        "\n",
        "img_show(img)"
      ],
      "execution_count": 65,
      "outputs": [
        {
          "output_type": "stream",
          "text": [
            "5\n",
            "(784,)\n",
            "(28, 28)\n"
          ],
          "name": "stdout"
        }
      ]
    },
    {
      "cell_type": "markdown",
      "metadata": {
        "id": "Q66jsZjazRh0"
      },
      "source": [
        "## 3.6.2 신경망의 추론 처리"
      ]
    },
    {
      "cell_type": "markdown",
      "metadata": {
        "id": "7CnSTEPh0-V9"
      },
      "source": [
        "- 입력층 뉴런 784개 (이미지가 28 *28 = 784 크기이기 떄문에)\n",
        "- 출력층 뉴런 10개 (0~9의 10개의 숫자를 구분하는 문제이기 때문에)\n",
        "- 은닉층은 총 2개로 첫번째 은닉층에는 50개의 뉴런을, 두번째 은닉층에는 100개의 뉴런을 배치할 것이다. 50과 100은 임의의 숫자\n"
      ]
    },
    {
      "cell_type": "code",
      "metadata": {
        "colab": {
          "resources": {
            "http://localhost:8080/nbextensions/google.colab/files.js": {
              "data": "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",
              "ok": true,
              "headers": [
                [
                  "content-type",
                  "application/javascript"
                ]
              ],
              "status": 200,
              "status_text": ""
            }
          },
          "base_uri": "https://localhost:8080/",
          "height": 76
        },
        "id": "4tt03wUc8y5Y",
        "outputId": "883a7d3c-6159-4342-8eb0-f24bf6e29b57"
      },
      "source": [
        "from google.colab import files\n",
        "uploaded = files.upload()"
      ],
      "execution_count": 70,
      "outputs": [
        {
          "output_type": "display_data",
          "data": {
            "text/html": [
              "\n",
              "     <input type=\"file\" id=\"files-1462eed1-2ba6-4cb3-879d-bf848b527167\" name=\"files[]\" multiple disabled\n",
              "        style=\"border:none\" />\n",
              "     <output id=\"result-1462eed1-2ba6-4cb3-879d-bf848b527167\">\n",
              "      Upload widget is only available when the cell has been executed in the\n",
              "      current browser session. Please rerun this cell to enable.\n",
              "      </output>\n",
              "      <script src=\"/nbextensions/google.colab/files.js\"></script> "
            ],
            "text/plain": [
              "<IPython.core.display.HTML object>"
            ]
          },
          "metadata": {
            "tags": []
          }
        },
        {
          "output_type": "stream",
          "text": [
            "Saving sample_weight.pkl to sample_weight.pkl\n"
          ],
          "name": "stdout"
        }
      ]
    },
    {
      "cell_type": "code",
      "metadata": {
        "id": "wiTfdU141aW1"
      },
      "source": [
        "def get_data() :\n",
        "  (x_train, t_train), (x_test,t_test) = file1.load_mnist(flatten = True, normalize = True, one_hot_label = False)\n",
        "  return x_test, t_test\n",
        "\n",
        "def init_network():\n",
        "  import pickle\n",
        "  with open(\"sample_weight.pkl\", 'rb') as f:\n",
        "    network = pickle.load(f)\n",
        "\n",
        "  return network\n",
        "\n",
        "def predict(network,x) :\n",
        "  W1,W2,W3 = network['W1'] , network['W2'], network['W3']\n",
        "  b1,b2,b3 = network['b1'], network['b2'], network['b3']\n",
        "\n",
        "  a1 = np.dot(x,W1) + b1\n",
        "  z1 = sigmoid(a1)\n",
        "  a2 = np.dot(z1,W2) + b2\n",
        "  z2 = sigmoid(a2)\n",
        "  a3 = np.dot(z2,W3) + b3\n",
        "  y = sigmoid(a3)\n",
        "  \n",
        "  return y"
      ],
      "execution_count": 73,
      "outputs": []
    },
    {
      "cell_type": "markdown",
      "metadata": {
        "id": "lGvrCQ0z2oW7"
      },
      "source": [
        "- init_network () 파일에서는 pickle 파일인 sample_weight.pkl 에 저장된 학습된 가중치 매개변수 를 읽어온다. 이 파일에는 가중치와 bias 매개변수가 변수로 저장되어 있다. 이 함수를 가지고 추론을 하고 acc를 구해보겠습니다."
      ]
    },
    {
      "cell_type": "code",
      "metadata": {
        "colab": {
          "base_uri": "https://localhost:8080/"
        },
        "id": "U12O8dbl60hb",
        "outputId": "128ad4bd-5539-4ec8-9948-58363e270575"
      },
      "source": [
        "x, t = get_data()\n",
        "network = init_network()\n",
        "\n",
        "accuracy_cnt = 0\n",
        "for i in range(len(x)):\n",
        "  y = predict(network,x[i])\n",
        "  p = np.argmax(y)\n",
        "  if p == t[i] :\n",
        "    accuracy_cnt += 1\n",
        "\n",
        "print(\"Accuracy:\" + str(float(accuracy_cnt)/len(x)))\n"
      ],
      "execution_count": 74,
      "outputs": [
        {
          "output_type": "stream",
          "text": [
            "Accuracy:0.9352\n"
          ],
          "name": "stdout"
        }
      ]
    },
    {
      "cell_type": "markdown",
      "metadata": {
        "id": "ViMX_ccx7ZcR"
      },
      "source": [
        "- 먼저 MNIST 데이터 셋을 얻고 네트워크를 형성한다. 이어서 for 문을 돌며 x에 저장된 이미지를 꺼내 predict 함수로 분류한다. predict 함수는 각 레이블의 확률을 넘파이 배열로 반환하므로, 그 다음 np.argmax()함수로 이 배열에서 가장 큰 원소의 인덱스를 구하면 그 인덱스가 예측 결과 label이 된다. 이러한 예측결과 label과 정답 label을 비교하여 맞힌 숫자 acc_cnt를 세고 이를 전체 이미지 숫자로 나눠 정확도를 구한다."
      ]
    },
    {
      "cell_type": "markdown",
      "metadata": {
        "id": "Hrdk3Ob890iX"
      },
      "source": [
        "- 또한 이 예시에서는 load_mnist 함수의 인수인 normalize 를 True로  설정하여 0~255 범위의 값을 255로 나눠서 0~1값으로 변환하였는데 이처럼 특정 범위의 데이터를 변환하는 처리를 **정규화(normalization)** 라 하고 신경망의 입력 데이터에 특정 변환을 가하는 것을 전처리(pre-processing)이라 한다."
      ]
    },
    {
      "cell_type": "markdown",
      "metadata": {
        "id": "iCGMr9Xe-UxF"
      },
      "source": [
        "- 여기서는 255로 나누는 단순한 정규화를 수행하였지만, 현업에서는 데이터 전체의 분포를 고려해 전처리하는 경우가 많다. 예를 들어, 데이터 전체 평균과 표준편차를 이용하여 데이터들이 0을 중심으로 분포할 수 있도록 데이터의 확산범위를 제한하는 정규화를 수행한다. 그 외에도 전체 데이터를 균일하게 분포시키는 데이터 백색화(whitening)도 있다."
      ]
    },
    {
      "cell_type": "markdown",
      "metadata": {
        "id": "agTaKN5V-_Nu"
      },
      "source": [
        "## 3.6.3 배치 처리"
      ]
    },
    {
      "cell_type": "code",
      "metadata": {
        "colab": {
          "base_uri": "https://localhost:8080/"
        },
        "id": "kzKFu6rm_KlE",
        "outputId": "14e94c1a-96d8-4962-b505-a8c85d436a25"
      },
      "source": [
        "x, _ = get_data()\n",
        "network = init_network()\n",
        "W1,W2,W3 = network['W1'] , network['W2'], network['W3']\n",
        "\n",
        "print(x[0].shape)\n",
        "print(W1.shape)\n",
        "print(W2.shape)\n",
        "print(W3.shape)"
      ],
      "execution_count": 75,
      "outputs": [
        {
          "output_type": "stream",
          "text": [
            "(784,)\n",
            "(784, 50)\n",
            "(50, 100)\n",
            "(100, 10)\n"
          ],
          "name": "stdout"
        }
      ]
    },
    {
      "cell_type": "markdown",
      "metadata": {
        "id": "aaW3V6V-_onp"
      },
      "source": [
        "- 이처럼 다차원 배열의 대응하는 차원의 수가 일치하는 것을 볼 수 있다.\n",
        "- 784-784, 50-50, 100-100 \n",
        "- 결국 데이터 한장이 입력되었을 때 원소 784개로 구성된 1차원 배열이 입력되어 원소가 10개인 1차원 배열이 출력되는 구조이다.\n"
      ]
    },
    {
      "cell_type": "markdown",
      "metadata": {
        "id": "tDKCeGw9APs-"
      },
      "source": [
        "그렇다면 여러장을 한꺼번에 입력하는 경우를 생각해보자.\n",
        "\n",
        "이미지 100개를 묶어 predict() 함수에 넘긴다면? \n",
        "\n",
        "x의 형상을 100*784로 바꿔서 100장 분량의 데이터를 하나의 입력 데이터로 표현하면 될 것이다. \n",
        "\n",
        "그러면 최종 출력이 100*10이 나올 것이다.\n",
        "결국에는 x[0] y[0] 에는 0번째 이미지와 그 추론 결과가\n",
        "x[1]과 y[1]에는 1번째 이미지와 그 추론 결과가 들어있을 것이다."
      ]
    },
    {
      "cell_type": "markdown",
      "metadata": {
        "id": "-8q0e6byA1pw"
      },
      "source": [
        "- 이처럼 하나로 묶은 입력 데이터를 **배치**라고 한다."
      ]
    },
    {
      "cell_type": "markdown",
      "metadata": {
        "id": "CPXrRTqOA7qy"
      },
      "source": [
        "배치를 사용할 때의 장점은 \n",
        "1. 하나의 수치 계산 라이브러리 대부분이 큰 배열을 효율적으로 처리할 수 있도록 고도로 최적화되어 있기 때문이다. \n",
        "2. 큰 신경망에서는 데이터 전송이 병목적으로 작용하는 경우가 종종 있는데, 이를 배치 처리함으로써 부하를 줄일 수 있다.(데이터를 읽는 횟수가 줄고, 빠른 CPU나 GPU로 순수 계산을 수행하는 비율이 늘어나 상대적으로 빠르게 느껴지는 것.)"
      ]
    },
    {
      "cell_type": "markdown",
      "metadata": {
        "id": "gBsaLjMzBp2V"
      },
      "source": [
        "### 배치처리 구현"
      ]
    },
    {
      "cell_type": "code",
      "metadata": {
        "colab": {
          "base_uri": "https://localhost:8080/"
        },
        "id": "0pz1trO3BvPd",
        "outputId": "69e2602b-400b-4936-c299-8274c0871738"
      },
      "source": [
        "x, t = get_data()\n",
        "network = init_network()\n",
        "\n",
        "batch_size = 100 # 배치크기\n",
        "accuracy_cnt = 0\n",
        "\n",
        "for i in range(0,len(x),batch_size) :\n",
        "  x_batch = x[i:i+batch_size]\n",
        "  y_batch = predict(network,x_batch)\n",
        "  p = np.argmax(y_batch,axis =1)\n",
        "  accuracy_cnt += np.sum( p == t[i:i+batch_size])\n",
        "\n",
        "print(\"Accuracy:\" + str(float(accuracy_cnt) / len(x)))\n"
      ],
      "execution_count": 76,
      "outputs": [
        {
          "output_type": "stream",
          "text": [
            "Accuracy:0.9352\n"
          ],
          "name": "stdout"
        }
      ]
    },
    {
      "cell_type": "markdown",
      "metadata": {
        "id": "pCJTzljMCawD"
      },
      "source": [
        "- range 함수를 range(0,len(x),batch_size) 이처럼 사용하게 되면 batch_size 만큼의 step으로 for문을 수행하게 된다.\n",
        "- axis = 1 은 첫번쨰 차원을 축으로 최댓값을 찾도록 한 것이다. 즉 0번쨰 인덱스 내에서 가장 큰 값을 찾게 한 것이다. 그러므로 각 이미지 내에서 가장 큰 값을 가지는 것의 label을 갖고오게 된다."
      ]
    }
  ]
}